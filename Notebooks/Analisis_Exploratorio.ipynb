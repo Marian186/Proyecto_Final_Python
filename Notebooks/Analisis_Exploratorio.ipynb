{
 "cells": [
  {
   "cell_type": "markdown",
   "metadata": {},
   "source": [
    "<div>\n",
    "<img src=\"https://i.ibb.co/v3CvVz9/udd-short.png\" width=\"96\"/>\n",
    "    <br>\n",
    "    <strong>Universidad del Desarrollo</strong><br>\n",
    "    Magíster en Data Science<br>\n",
    "    <em>Profesor: Víctor Navarro Aránguiz</em><br>\n",
    "\n",
    "</div>\n",
    "\n",
    "### Proyecto Final Python para Data Science\n",
    "*Nombre Estudiante(s):* `Mariangel Arrieta`"
   ]
  },
  {
   "cell_type": "markdown",
   "metadata": {},
   "source": [
    "`Introducción al análisis exploratorio de datos`"
   ]
  },
  {
   "cell_type": "markdown",
   "metadata": {},
   "source": [
    "##### Importar paquetes"
   ]
  },
  {
   "cell_type": "code",
   "execution_count": 14,
   "metadata": {},
   "outputs": [],
   "source": [
    "#importamos libreria\n",
    "import pandas as pd\n",
    "\n",
    "#importamos librerias de visualización\n",
    "#import matplotlib.pyplot as plt\n",
    "#import seaborn as sns\n",
    "\n",
    "#Para mostrar todas las columnas en el df\n",
    "pd.set_option('display.max_columns', None)"
   ]
  },
  {
   "cell_type": "markdown",
   "metadata": {},
   "source": [
    "##### Cargar datos"
   ]
  },
  {
   "cell_type": "code",
   "execution_count": 26,
   "metadata": {},
   "outputs": [],
   "source": [
    "# Ruta al archivo CSV en la carpeta data\n",
    "file_path = '../data/online_course_engagement_data.csv'\n",
    "\n",
    "# Leer el archivo CSV\n",
    "df = pd.read_csv(file_path)\n"
   ]
  },
  {
   "cell_type": "markdown",
   "metadata": {},
   "source": [
    "##### Recopilar información básica sobre los datos."
   ]
  },
  {
   "cell_type": "code",
   "execution_count": 27,
   "metadata": {},
   "outputs": [
    {
     "name": "stdout",
     "output_type": "stream",
     "text": [
      "<class 'pandas.core.frame.DataFrame'>\n",
      "RangeIndex: 9000 entries, 0 to 8999\n",
      "Data columns (total 9 columns):\n",
      " #   Column                 Non-Null Count  Dtype  \n",
      "---  ------                 --------------  -----  \n",
      " 0   UserID                 9000 non-null   int64  \n",
      " 1   CourseCategory         9000 non-null   object \n",
      " 2   TimeSpentOnCourse      9000 non-null   float64\n",
      " 3   NumberOfVideosWatched  9000 non-null   int64  \n",
      " 4   NumberOfQuizzesTaken   9000 non-null   int64  \n",
      " 5   QuizScores             9000 non-null   float64\n",
      " 6   CompletionRate         9000 non-null   float64\n",
      " 7   DeviceType             9000 non-null   int64  \n",
      " 8   CourseCompletion       9000 non-null   int64  \n",
      "dtypes: float64(3), int64(5), object(1)\n",
      "memory usage: 632.9+ KB\n"
     ]
    }
   ],
   "source": [
    "#Se describen las columnas de 'df' identificando el tipo de dato en cada una.\n",
    "df.info()"
   ]
  },
  {
   "cell_type": "markdown",
   "metadata": {},
   "source": [
    " *Que representan las columnas?*\n",
    " ###### UserID (int64)                --> Identificador único para cada usuario<br>\n",
    " ###### CourseCategory  (object)      --> Categoría del curso tomado por el usuario (por ejemplo, Programación, Negocios, Artes) <br>\n",
    " ###### TimeSpentOnCourse (float64)   --> Tiempo total dedicado por el usuario al curso en horas <br>\n",
    " ###### NumberOfVideosWatched (int64) --> Número de vídeos vistos <br>\n",
    " ###### NumberOfQuizzesTaken (int64)  --> Número de pruebas realizadas<br>\n",
    " ###### QuizScores  (float64)         --> Puntuaciones del cuestionario <br>\n",
    " ###### CompletionRate  (float64)     --> Tasa de finalización <br>\n",
    " ###### DeviceType (int64)            --> Tipo de dispositivo (0: Desktop, 1: Mobile)<br>\n",
    " ###### CourseCompletion (int64)      --> Finalización del curso (0: No completado, 1: Completado) <br>"
   ]
  },
  {
   "cell_type": "code",
   "execution_count": 34,
   "metadata": {},
   "outputs": [
    {
     "data": {
      "text/plain": [
       "(9000, 9)"
      ]
     },
     "execution_count": 34,
     "metadata": {},
     "output_type": "execute_result"
    }
   ],
   "source": [
    "#Dimensiones del df\n",
    "df.shape"
   ]
  },
  {
   "cell_type": "code",
   "execution_count": 31,
   "metadata": {},
   "outputs": [
    {
     "data": {
      "text/html": [
       "<div>\n",
       "<style scoped>\n",
       "    .dataframe tbody tr th:only-of-type {\n",
       "        vertical-align: middle;\n",
       "    }\n",
       "\n",
       "    .dataframe tbody tr th {\n",
       "        vertical-align: top;\n",
       "    }\n",
       "\n",
       "    .dataframe thead th {\n",
       "        text-align: right;\n",
       "    }\n",
       "</style>\n",
       "<table border=\"1\" class=\"dataframe\">\n",
       "  <thead>\n",
       "    <tr style=\"text-align: right;\">\n",
       "      <th></th>\n",
       "      <th>UserID</th>\n",
       "      <th>CourseCategory</th>\n",
       "      <th>TimeSpentOnCourse</th>\n",
       "      <th>NumberOfVideosWatched</th>\n",
       "      <th>NumberOfQuizzesTaken</th>\n",
       "      <th>QuizScores</th>\n",
       "      <th>CompletionRate</th>\n",
       "      <th>DeviceType</th>\n",
       "      <th>CourseCompletion</th>\n",
       "    </tr>\n",
       "  </thead>\n",
       "  <tbody>\n",
       "    <tr>\n",
       "      <th>0</th>\n",
       "      <td>5618</td>\n",
       "      <td>Health</td>\n",
       "      <td>29.979719</td>\n",
       "      <td>17</td>\n",
       "      <td>3</td>\n",
       "      <td>50.365656</td>\n",
       "      <td>20.860773</td>\n",
       "      <td>1</td>\n",
       "      <td>0</td>\n",
       "    </tr>\n",
       "    <tr>\n",
       "      <th>1</th>\n",
       "      <td>4326</td>\n",
       "      <td>Arts</td>\n",
       "      <td>27.802640</td>\n",
       "      <td>1</td>\n",
       "      <td>5</td>\n",
       "      <td>62.615970</td>\n",
       "      <td>65.632415</td>\n",
       "      <td>1</td>\n",
       "      <td>0</td>\n",
       "    </tr>\n",
       "    <tr>\n",
       "      <th>2</th>\n",
       "      <td>5849</td>\n",
       "      <td>Arts</td>\n",
       "      <td>86.820485</td>\n",
       "      <td>14</td>\n",
       "      <td>2</td>\n",
       "      <td>78.458962</td>\n",
       "      <td>63.812007</td>\n",
       "      <td>1</td>\n",
       "      <td>1</td>\n",
       "    </tr>\n",
       "    <tr>\n",
       "      <th>3</th>\n",
       "      <td>4992</td>\n",
       "      <td>Science</td>\n",
       "      <td>35.038427</td>\n",
       "      <td>17</td>\n",
       "      <td>10</td>\n",
       "      <td>59.198853</td>\n",
       "      <td>95.433162</td>\n",
       "      <td>0</td>\n",
       "      <td>1</td>\n",
       "    </tr>\n",
       "    <tr>\n",
       "      <th>4</th>\n",
       "      <td>3866</td>\n",
       "      <td>Programming</td>\n",
       "      <td>92.490647</td>\n",
       "      <td>16</td>\n",
       "      <td>0</td>\n",
       "      <td>98.428285</td>\n",
       "      <td>18.102478</td>\n",
       "      <td>0</td>\n",
       "      <td>0</td>\n",
       "    </tr>\n",
       "  </tbody>\n",
       "</table>\n",
       "</div>"
      ],
      "text/plain": [
       "   UserID CourseCategory  TimeSpentOnCourse  NumberOfVideosWatched  \\\n",
       "0    5618         Health          29.979719                     17   \n",
       "1    4326           Arts          27.802640                      1   \n",
       "2    5849           Arts          86.820485                     14   \n",
       "3    4992        Science          35.038427                     17   \n",
       "4    3866    Programming          92.490647                     16   \n",
       "\n",
       "   NumberOfQuizzesTaken  QuizScores  CompletionRate  DeviceType  \\\n",
       "0                     3   50.365656       20.860773           1   \n",
       "1                     5   62.615970       65.632415           1   \n",
       "2                     2   78.458962       63.812007           1   \n",
       "3                    10   59.198853       95.433162           0   \n",
       "4                     0   98.428285       18.102478           0   \n",
       "\n",
       "   CourseCompletion  \n",
       "0                 0  \n",
       "1                 0  \n",
       "2                 1  \n",
       "3                 1  \n",
       "4                 0  "
      ]
     },
     "execution_count": 31,
     "metadata": {},
     "output_type": "execute_result"
    }
   ],
   "source": [
    "#Primeras 5 filas del df\n",
    "df.head(5)"
   ]
  },
  {
   "cell_type": "code",
   "execution_count": 35,
   "metadata": {},
   "outputs": [
    {
     "data": {
      "text/plain": [
       "Index(['UserID', 'CourseCategory', 'TimeSpentOnCourse',\n",
       "       'NumberOfVideosWatched', 'NumberOfQuizzesTaken', 'QuizScores',\n",
       "       'CompletionRate', 'DeviceType', 'CourseCompletion'],\n",
       "      dtype='object')"
      ]
     },
     "execution_count": 35,
     "metadata": {},
     "output_type": "execute_result"
    }
   ],
   "source": [
    "df.columns"
   ]
  }
 ],
 "metadata": {
  "kernelspec": {
   "display_name": "marian",
   "language": "python",
   "name": "python3"
  },
  "language_info": {
   "codemirror_mode": {
    "name": "ipython",
    "version": 3
   },
   "file_extension": ".py",
   "mimetype": "text/x-python",
   "name": "python",
   "nbconvert_exporter": "python",
   "pygments_lexer": "ipython3",
   "version": "3.11.9"
  }
 },
 "nbformat": 4,
 "nbformat_minor": 2
}
