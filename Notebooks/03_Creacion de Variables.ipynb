{
 "cells": [
  {
   "cell_type": "markdown",
   "metadata": {},
   "source": [
    "`Creación de Variables`"
   ]
  },
  {
   "cell_type": "markdown",
   "metadata": {},
   "source": [
    "##### Importar paquetes"
   ]
  },
  {
   "cell_type": "code",
   "execution_count": 106,
   "metadata": {},
   "outputs": [],
   "source": [
    "#importamos libreria\n",
    "import pandas as pd\n",
    "import numpy as np"
   ]
  },
  {
   "cell_type": "markdown",
   "metadata": {},
   "source": [
    "##### Cargar datos"
   ]
  },
  {
   "cell_type": "code",
   "execution_count": 107,
   "metadata": {},
   "outputs": [],
   "source": [
    "# Ruta al archivo CSV en la carpeta data\n",
    "file_path = '../data/online_course_engagement_data.csv'\n",
    "\n",
    "# Leer el archivo CSV\n",
    "df = pd.read_csv(file_path)\n",
    "\n",
    "# Borramos datos duplicados y creamos un nuevo df1\n",
    "df1 = df.drop_duplicates(keep='first')\n",
    "df1 = df1.copy()"
   ]
  },
  {
   "cell_type": "markdown",
   "metadata": {},
   "source": [
    "1. Estadísticas de finalización de cursos"
   ]
  },
  {
   "cell_type": "code",
   "execution_count": 108,
   "metadata": {},
   "outputs": [
    {
     "data": {
      "text/plain": [
       "count    8123.000000\n",
       "mean        0.439247\n",
       "std         0.496326\n",
       "min         0.000000\n",
       "25%         0.000000\n",
       "50%         0.000000\n",
       "75%         1.000000\n",
       "max         1.000000\n",
       "Name: CourseCompletion, dtype: float64"
      ]
     },
     "execution_count": 108,
     "metadata": {},
     "output_type": "execute_result"
    }
   ],
   "source": [
    "# Las estadísticas descriptivas para la columna CourseCompletion son las siguientes:\n",
    "df1['CourseCompletion'].describe()\n"
   ]
  },
  {
   "cell_type": "markdown",
   "metadata": {},
   "source": [
    "*Conclusion: Estos resultados indican que aproximadamente el 43.9% de los cursos fueron completados, con una alta variabilidad (casi 50%).*"
   ]
  },
  {
   "cell_type": "markdown",
   "metadata": {},
   "source": [
    "*Luego Creamos nuevo dataframe (df2) que contiene aquellos usuarios que completarón el curso, de acuerdo a los registros.*"
   ]
  },
  {
   "cell_type": "code",
   "execution_count": 109,
   "metadata": {},
   "outputs": [
    {
     "name": "stdout",
     "output_type": "stream",
     "text": [
      "El total de registros de este nuevo df2 es: 3568\n"
     ]
    }
   ],
   "source": [
    "df2 = df1[df1['CourseCompletion'] == 1]\n",
    "print(f'El total de registros de este nuevo df2 es:', len(df2))"
   ]
  },
  {
   "cell_type": "markdown",
   "metadata": {},
   "source": [
    "2. Calculo de las Puntuaciones de los cuestionarios, primero para el conjunto de datos df1, luego df2"
   ]
  },
  {
   "cell_type": "code",
   "execution_count": 110,
   "metadata": {},
   "outputs": [
    {
     "name": "stdout",
     "output_type": "stream",
     "text": [
      "El Promedio de Puntuación de los Cuestionarios para df1 es: 75.09\n"
     ]
    }
   ],
   "source": [
    "#df1\n",
    "#Ayuda a entender el rendimiento general de los usuarios en las evaluaciones del curso.\n",
    "#De las pruebas realizadas por los usuarios del curso evaluamos el valor promedio, maximo y \n",
    "#minimo de las puntuaciones. \n",
    "\n",
    "AverageQuizScore=df1['QuizScores'].mean()\n",
    "\n",
    "print(f'El Promedio de Puntuación de los Cuestionarios para df1 es:', AverageQuizScore.round(2))"
   ]
  },
  {
   "cell_type": "code",
   "execution_count": 111,
   "metadata": {},
   "outputs": [
    {
     "name": "stdout",
     "output_type": "stream",
     "text": [
      "El Promedio de Puntuaciones de los Cuestionarios para df2 es: 80.03\n"
     ]
    }
   ],
   "source": [
    "#df2\n",
    "# Ayuda a entender el rendimiento general de los usuarios en las evaluaciones del curso.\n",
    "#De las pruebas realizadas por los usuarios del curso evaluamos el valor promedio, maximo y \n",
    "#minimo de las puntuaciones. \n",
    "\n",
    "AverageQuizScore2=df2['QuizScores'].mean()\n",
    "\n",
    "print(f'El Promedio de Puntuaciones de los Cuestionarios para df2 es:', AverageQuizScore2.round(2))"
   ]
  },
  {
   "cell_type": "markdown",
   "metadata": {},
   "source": [
    "2. Tiempo Promedio por Video para cada conjunto de datos (df1 y df2)"
   ]
  },
  {
   "cell_type": "code",
   "execution_count": 112,
   "metadata": {},
   "outputs": [
    {
     "name": "stdout",
     "output_type": "stream",
     "text": [
      "count    7776.00\n",
      "mean        8.73\n",
      "std        12.89\n",
      "min         0.05\n",
      "25%         2.49\n",
      "50%         4.83\n",
      "75%         8.84\n",
      "max        99.62\n",
      "Name: AverageTimePerVideo, dtype: float64\n"
     ]
    }
   ],
   "source": [
    "#df1\n",
    "#eliminamos resultados infinitos, donde el 'NumberOfVideosWatched' es 0\n",
    "df1_video = df1[df1['NumberOfVideosWatched'] != 0]\n",
    "df1_video = df1_video.copy()\n",
    "df1_video.loc[:, 'AverageTimePerVideo'] = df1_video['TimeSpentOnCourse'] / df1_video['NumberOfVideosWatched']\n",
    "\n",
    "#tiempo promedio en horas que un usuario pasa viendo cada video.\n",
    "df1_video.loc[:, 'AverageTimePerVideo'] = df1_video['TimeSpentOnCourse'] / df1_video['NumberOfVideosWatched']\n",
    "print((df1_video['AverageTimePerVideo'].describe()).round(2))"
   ]
  },
  {
   "cell_type": "code",
   "execution_count": 113,
   "metadata": {},
   "outputs": [
    {
     "name": "stdout",
     "output_type": "stream",
     "text": [
      "count    3507.00\n",
      "mean        7.02\n",
      "std         9.70\n",
      "min         0.05\n",
      "25%         2.93\n",
      "50%         4.74\n",
      "75%         7.23\n",
      "max        97.99\n",
      "Name: AverageTimePerVideo, dtype: float64\n"
     ]
    }
   ],
   "source": [
    "#df2\n",
    "#eliminamos resultados infinitos, donde el 'NumberOfVideosWatched' es 0\n",
    "df2_video = df2[df2['NumberOfVideosWatched'] != 0]\n",
    "df2_video = df2_video.copy()\n",
    "df2_video.loc[:, 'AverageTimePerVideo'] = df2_video['TimeSpentOnCourse'] / df2_video['NumberOfVideosWatched']\n",
    "\n",
    "#tiempo promedio en horas que un usuario pasa viendo cada video.\n",
    "df2_video.loc[:, 'AverageTimePerVideo'] = df2_video['TimeSpentOnCourse'] / df2_video['NumberOfVideosWatched']\n",
    "print((df2_video['AverageTimePerVideo'].describe()).round(2))"
   ]
  },
  {
   "cell_type": "markdown",
   "metadata": {},
   "source": [
    "3. Tiempo Promedio por Cuestionario para cada conjunto de datos (df1 y df2)"
   ]
  },
  {
   "cell_type": "code",
   "execution_count": 114,
   "metadata": {},
   "outputs": [
    {
     "name": "stdout",
     "output_type": "stream",
     "text": [
      "count    7475.00\n",
      "mean       14.30\n",
      "std        16.71\n",
      "min         0.10\n",
      "25%         4.66\n",
      "50%         8.99\n",
      "75%        16.34\n",
      "max        99.99\n",
      "Name: AverageTimePerQuiz, dtype: float64\n"
     ]
    }
   ],
   "source": [
    "#df1\n",
    "#eliminamos resultados infinitos, donde el 'NumberOfQuizzesTaken' es 0\n",
    "df1_cuestionario = df1[df1['NumberOfQuizzesTaken'] != 0]\n",
    "df1_cuestionario = df1_cuestionario.copy()\n",
    "\n",
    "#Calcula el tiempo promedio que un usuario pasa por cuestionario.\n",
    "df1_cuestionario.loc[:, 'AverageTimePerQuiz'] = (df1_cuestionario['TimeSpentOnCourse'] / df1_cuestionario['NumberOfQuizzesTaken']).round(2)\n",
    "print((df1_cuestionario['AverageTimePerQuiz'].describe()).round(2))"
   ]
  },
  {
   "cell_type": "code",
   "execution_count": 115,
   "metadata": {},
   "outputs": [
    {
     "name": "stdout",
     "output_type": "stream",
     "text": [
      "count    3448.00\n",
      "mean       11.92\n",
      "std        12.65\n",
      "min         0.11\n",
      "25%         5.42\n",
      "50%         8.86\n",
      "75%        13.66\n",
      "max        99.99\n",
      "Name: AverageTimePerQuiz, dtype: float64\n"
     ]
    }
   ],
   "source": [
    "#df2\n",
    "#eliminamos resultados infinitos, donde el 'NumberOfQuizzesTaken' es 0\n",
    "df2_cuestionario = df2[df2['NumberOfQuizzesTaken'] != 0]\n",
    "df2_cuestionario = df2_cuestionario.copy()\n",
    "\n",
    "#Calcula el tiempo promedio que un usuario pasa por cuestionario.\n",
    "df2_cuestionario.loc[:, 'AverageTimePerQuiz'] = (df2_cuestionario['TimeSpentOnCourse'] / df2_cuestionario['NumberOfQuizzesTaken']).round(2)\n",
    "print((df2_cuestionario['AverageTimePerQuiz'].describe()).round(2))"
   ]
  },
  {
   "cell_type": "markdown",
   "metadata": {},
   "source": [
    "*existe una diferencia de 120 usuarios que no tomaron quiz pero si completarón el curso, lo siguiente expone el autor de los datos: Algunos cursos no tienen cuestionarios, por lo que la puntuación del cuestionario generalmente se basa en otras métricas, como la cantidad de videos que se vieron.*"
   ]
  },
  {
   "cell_type": "markdown",
   "metadata": {},
   "source": [
    "4. Nivel de Actividad del Usuario"
   ]
  },
  {
   "cell_type": "code",
   "execution_count": 123,
   "metadata": {},
   "outputs": [
    {
     "data": {
      "text/plain": [
       "<bound method IndexOpsMixin.value_counts of 0       29.979719\n",
       "1       27.802640\n",
       "2       86.820485\n",
       "3       35.038427\n",
       "4       92.490647\n",
       "          ...    \n",
       "8995    37.445225\n",
       "8996    48.631443\n",
       "8997    38.212512\n",
       "8998    70.048665\n",
       "8999    93.589781\n",
       "Name: TimeSpentOnCourse, Length: 8123, dtype: float64>"
      ]
     },
     "execution_count": 123,
     "metadata": {},
     "output_type": "execute_result"
    }
   ],
   "source": [
    "df1[\"TimeSpentOnCourse\"].value_counts"
   ]
  },
  {
   "cell_type": "code",
   "execution_count": 118,
   "metadata": {},
   "outputs": [
    {
     "name": "stdout",
     "output_type": "stream",
     "text": [
      "El total con nivel de actividad Bajo es: 2016\n",
      "El total con nivel de actividad Medio es: 2016\n",
      "El total con nivel de actividad Alto es: 4091\n"
     ]
    }
   ],
   "source": [
    "# Definir la función para clasificar el nivel de actividad\n",
    "def ActivityLevel(row):\n",
    "    if row['TimeSpentOnCourse'] < 26:\n",
    "        return \"Bajo\"\n",
    "    elif row['TimeSpentOnCourse'] < 50:\n",
    "        return \"Medio\"\n",
    "    elif row['TimeSpentOnCourse'] >= 50:\n",
    "        return \"Alto\"\n",
    "\n",
    "# Aplicar la función al DataFrame\n",
    "df1[\"ActivityLevel\"] = df1.apply(ActivityLevel, axis=1)\n",
    "\n",
    "# Imprimir los totales por nivel de actividad\n",
    "print(f'El total con nivel de actividad Bajo es:', len(df1.loc[df1['ActivityLevel'] == 'Bajo']))\n",
    "print(f'El total con nivel de actividad Medio es:', len(df1.loc[df1['ActivityLevel'] == 'Medio']))\n",
    "print(f'El total con nivel de actividad Alto es:', len(df1.loc[df1['ActivityLevel'] == 'Alto']))\n"
   ]
  },
  {
   "cell_type": "code",
   "execution_count": 124,
   "metadata": {},
   "outputs": [
    {
     "name": "stdout",
     "output_type": "stream",
     "text": [
      "ActivityLevel\n",
      "Bajo     2016\n",
      "Medio    2016\n",
      "Alto     4091\n",
      "Name: count, dtype: int64\n"
     ]
    }
   ],
   "source": [
    "# Definir los límites para los grupos\n",
    "bins = [0, 26, 50, df1['TimeSpentOnCourse'].max()]\n",
    "labels = ['Bajo', 'Medio', 'Alto']\n",
    "\n",
    "# Crear una nueva columna 'ActivityLevel' basada en los intervalos\n",
    "df1['ActivityLevel'] = pd.cut(df1['TimeSpentOnCourse'], bins=bins, labels=labels, include_lowest=True)\n",
    "\n",
    "# Generar un cuadro que muestre el conteo de cada categoría\n",
    "activity_level_counts = df1['ActivityLevel'].value_counts().sort_index()\n",
    "\n",
    "# Imprimir el cuadro de conteo de cada categoría\n",
    "print(activity_level_counts)\n"
   ]
  }
 ],
 "metadata": {
  "kernelspec": {
   "display_name": "marian",
   "language": "python",
   "name": "python3"
  },
  "language_info": {
   "codemirror_mode": {
    "name": "ipython",
    "version": 3
   },
   "file_extension": ".py",
   "mimetype": "text/x-python",
   "name": "python",
   "nbconvert_exporter": "python",
   "pygments_lexer": "ipython3",
   "version": "3.11.9"
  }
 },
 "nbformat": 4,
 "nbformat_minor": 2
}
