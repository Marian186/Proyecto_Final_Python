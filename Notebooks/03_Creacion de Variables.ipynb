{
 "cells": [
  {
   "cell_type": "markdown",
   "metadata": {},
   "source": [
    "`Creación de Variables`"
   ]
  },
  {
   "cell_type": "markdown",
   "metadata": {},
   "source": [
    "##### Importar paquetes"
   ]
  },
  {
   "cell_type": "code",
   "execution_count": 2,
   "metadata": {},
   "outputs": [],
   "source": [
    "#importamos libreria\n",
    "import pandas as pd\n",
    "import numpy as np"
   ]
  },
  {
   "cell_type": "markdown",
   "metadata": {},
   "source": [
    "##### Cargar datos"
   ]
  },
  {
   "cell_type": "code",
   "execution_count": 3,
   "metadata": {},
   "outputs": [],
   "source": [
    "# Ruta al archivo CSV en la carpeta data\n",
    "file_path = '../data/online_course_engagement_data.csv'\n",
    "\n",
    "# Leer el archivo CSV\n",
    "df = pd.read_csv(file_path)\n",
    "\n",
    "# Borramos datos duplicados y creamos un nuevo df1\n",
    "df1 = df.drop_duplicates(keep='first')"
   ]
  },
  {
   "cell_type": "markdown",
   "metadata": {},
   "source": [
    "1. Promedio de Puntuaciones de Cuestionarios: \n"
   ]
  },
  {
   "cell_type": "code",
   "execution_count": 4,
   "metadata": {},
   "outputs": [
    {
     "name": "stdout",
     "output_type": "stream",
     "text": [
      "El Promedio de Puntuaciones de Cuestionarios es: 75.09\n",
      "La Puntuación maxima de los Cuestionarios es: 99.99498421511456\n",
      "La Puntuación minima de los Cuestionarios es: 50.00511862629234\n"
     ]
    }
   ],
   "source": [
    "#Ayuda a entender el rendimiento general de los usuarios en las evaluaciones del curso.\n",
    "#De las pruebas realizadas por los usuarios del curso evaluamos el valor promedio, maximo y \n",
    "#minimo de las puntuaciones. \n",
    "\n",
    "AverageQuizScore=df1['QuizScores'].mean()\n",
    "maxQuizScore=df1['QuizScores'].max()\n",
    "minQuizScore=df1['QuizScores'].min()\n",
    "\n",
    "print(f'El Promedio de Puntuaciones de Cuestionarios es:', AverageQuizScore.round(2))\n",
    "print(f'La Puntuación maxima de los Cuestionarios es:', maxQuizScore)\n",
    "print(f'La Puntuación minima de los Cuestionarios es:', minQuizScore)"
   ]
  },
  {
   "cell_type": "markdown",
   "metadata": {},
   "source": [
    "2. Tiempo Promedio por Video"
   ]
  },
  {
   "cell_type": "code",
   "execution_count": 8,
   "metadata": {},
   "outputs": [
    {
     "data": {
      "text/plain": [
       "0        1.76\n",
       "1       27.80\n",
       "2        6.20\n",
       "3        2.06\n",
       "4        5.78\n",
       "        ...  \n",
       "8995     2.67\n",
       "8996     6.95\n",
       "8997    12.74\n",
       "8998     5.39\n",
       "8999    13.37\n",
       "Name: AverageTimePerVideo, Length: 8123, dtype: float64"
      ]
     },
     "execution_count": 8,
     "metadata": {},
     "output_type": "execute_result"
    }
   ],
   "source": [
    "#tiempo promedio en horas que un usuario pasa viendo cada video.\n",
    "df1.loc[:, 'AverageTimePerVideo'] = df1['TimeSpentOnCourse'] / df1['NumberOfVideosWatched']\n",
    "df1['AverageTimePerVideo'].round(2)"
   ]
  },
  {
   "cell_type": "markdown",
   "metadata": {},
   "source": [
    "3. Tiempo Promedio por Cuestionario"
   ]
  },
  {
   "cell_type": "code",
   "execution_count": 6,
   "metadata": {},
   "outputs": [
    {
     "name": "stderr",
     "output_type": "stream",
     "text": [
      "C:\\Users\\Mariangel Arrieta\\AppData\\Local\\Temp\\ipykernel_2564\\98546609.py:2: SettingWithCopyWarning: \n",
      "A value is trying to be set on a copy of a slice from a DataFrame.\n",
      "Try using .loc[row_indexer,col_indexer] = value instead\n",
      "\n",
      "See the caveats in the documentation: https://pandas.pydata.org/pandas-docs/stable/user_guide/indexing.html#returning-a-view-versus-a-copy\n",
      "  df1.loc[:, 'AverageTimePerQuiz'] = (df1['TimeSpentOnCourse'] / df1['NumberOfQuizzesTaken']).round(2)\n"
     ]
    },
    {
     "data": {
      "text/plain": [
       "0        9.99\n",
       "1        5.56\n",
       "2       43.41\n",
       "3        3.50\n",
       "4         inf\n",
       "        ...  \n",
       "8995     9.36\n",
       "8996     6.95\n",
       "8997    12.74\n",
       "8998     7.00\n",
       "8999    18.72\n",
       "Name: AverageTimePerQuiz, Length: 8123, dtype: float64"
      ]
     },
     "execution_count": 6,
     "metadata": {},
     "output_type": "execute_result"
    }
   ],
   "source": [
    "#Calcula el tiempo promedio que un usuario pasa por cuestionario.\n",
    "df1.loc[:, 'AverageTimePerQuiz'] = (df1['TimeSpentOnCourse'] / df1['NumberOfQuizzesTaken']).round(2)\n",
    "df1['AverageTimePerQuiz']"
   ]
  },
  {
   "cell_type": "markdown",
   "metadata": {},
   "source": [
    "4. Nivel de Actividad del Usuario"
   ]
  },
  {
   "cell_type": "code",
   "execution_count": 7,
   "metadata": {},
   "outputs": [
    {
     "name": "stderr",
     "output_type": "stream",
     "text": [
      "C:\\Users\\Mariangel Arrieta\\AppData\\Local\\Temp\\ipykernel_2564\\3676206619.py:2: SettingWithCopyWarning: \n",
      "A value is trying to be set on a copy of a slice from a DataFrame.\n",
      "Try using .loc[row_indexer,col_indexer] = value instead\n",
      "\n",
      "See the caveats in the documentation: https://pandas.pydata.org/pandas-docs/stable/user_guide/indexing.html#returning-a-view-versus-a-copy\n",
      "  df1.loc[:, 'ActivityLevel'] = pd.qcut(df1['TimeSpentOnCourse'], q=3, labels=['Bajo', 'Medio', 'Alto'])\n"
     ]
    },
    {
     "data": {
      "text/plain": [
       "0        Bajo\n",
       "1        Bajo\n",
       "2        Alto\n",
       "3       Medio\n",
       "4        Alto\n",
       "        ...  \n",
       "8995    Medio\n",
       "8996    Medio\n",
       "8997    Medio\n",
       "8998     Alto\n",
       "8999     Alto\n",
       "Name: ActivityLevel, Length: 8123, dtype: category\n",
       "Categories (3, object): ['Bajo' < 'Medio' < 'Alto']"
      ]
     },
     "execution_count": 7,
     "metadata": {},
     "output_type": "execute_result"
    }
   ],
   "source": [
    "#Clasifica a los usuarios en niveles de actividad (bajo, medio, alto) según el tiempo total dedicado al curso.\n",
    "df1.loc[:, 'ActivityLevel'] = pd.qcut(df1['TimeSpentOnCourse'], q=3, labels=['Bajo', 'Medio', 'Alto'])\n",
    "df1['ActivityLevel']"
   ]
  }
 ],
 "metadata": {
  "kernelspec": {
   "display_name": "marian",
   "language": "python",
   "name": "python3"
  },
  "language_info": {
   "codemirror_mode": {
    "name": "ipython",
    "version": 3
   },
   "file_extension": ".py",
   "mimetype": "text/x-python",
   "name": "python",
   "nbconvert_exporter": "python",
   "pygments_lexer": "ipython3",
   "version": "3.11.9"
  }
 },
 "nbformat": 4,
 "nbformat_minor": 2
}
