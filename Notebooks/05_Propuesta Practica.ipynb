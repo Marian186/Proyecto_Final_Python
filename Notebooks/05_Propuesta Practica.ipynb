{
 "cells": [
  {
   "cell_type": "markdown",
   "metadata": {},
   "source": [
    "#### Propuesta Practica:\n",
    "\n",
    "Actualmente me desempeño como analista de datos en una universidad que imparte programas educativos, en modalidad presencial y online. Para esto dispone de una plataforma de aprendizaje en línea que ofrece diversos cursos. Particularmente me resulta interesante como podría mejorar la experiencia de los usuarios y aumentar la tasa de finalización de los cursos, en caso de requerirlo.\n",
    "\n",
    "Basado en lo anterior es necesario primeramente identificar patrones en la participación de los usuarios y prever la finalización del curso, con el fin de implementar estrategias personalizadas que fomenten el compromiso y la finalización.\n",
    "\n",
    "#### Descripción de la propuesta:\n",
    "\n",
    "1- Preparación de Datos: Una vez recolectados los datos lo primero es la Limpieza y preprocesamiento, identificar cuales registros estan duplicados, para evitar sesgos, asi como valores nulos que pudieran ser reemplazados o eliminados.\n",
    "\n",
    "2- Análisis Exploratorio de Datos: Basada en el analisis realizado al set datos \"Predict Online Course Engagement Dataset\" resulto interesante analizar, puede buscarse identificar las siguiente variables:\n",
    "\n",
    "- Distribución de 'CourseCompletion' que permite evaluar de forma general cuántos usuarios completaron los cursos en comparación con los que no lo hicieron. Dado que 'CourseCompletion' es una variable binaria (0 o 1), se pudo calcular y visualizar las proporciones de usuarios que completaron el curso frente a los que no. Ademas identificar Factores que Influyen en la Finalización del Curso, como 'TimeSpentOnCourse' (Tiempor dedicado al curso) mostró cómo varía el tiempo dedicado al curso entre los usuarios que completan y no el curso.\n",
    "\n",
    "- Distribución de los promedios en las puntuaciones de los cuestionarios (QuizScores) proporciono información valiosa sobre el rendimiento académico de los usuarios en la plataforma de aprendizaje en línea. \n",
    "\n",
    "- Distribución de TimeSpentOnCourse puede proporcionar información valiosa sobre cómo los usuarios están interactuando con los cursos en términos de tiempo invertido. Esta información es crucial para entender el compromiso del usuario y puede ayudar a identificar patrones y áreas de mejora en el diseño del curso.\n",
    "\n",
    "3- Relaciones entre Variables: Examinar variables como CourseCategory, DeviceType, y CompletionRate en relacion a CourseCompletion\n",
    "\n",
    "`Desafios:` \n",
    "- Los cursos que no cuentan con un sistema de Quiz/Evaluaciones pueden arrojar datos sesgados sobre cuantos usuarios completaron el curso.\n",
    "- La distribución de las puntuaciones puede estar sesgada por usuarios que obtuvieron muy bajas o muy altas puntuaciones, lo que puede distorsionar la interpretación.\n",
    "\n",
    "`Beneficios:` \n",
    "- Comprender la distribución de CourseCompletion da una visión clara de cuántos usuarios completan los cursos y permite evaluar el éxito general de los cursos ofrecidos.\n",
    "- Puedes identificar áreas donde los usuarios están teniendo éxito y áreas que necesitan mejoras.\n",
    "- Al mejorar la experiencia y la finalización del curso, es probable que los usuarios regresen para tomar más cursos, aumentando la retención a largo plazo."
   ]
  }
 ],
 "metadata": {
  "language_info": {
   "name": "python"
  }
 },
 "nbformat": 4,
 "nbformat_minor": 2
}
