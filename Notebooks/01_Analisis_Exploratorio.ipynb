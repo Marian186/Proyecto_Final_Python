{
 "cells": [
  {
   "cell_type": "markdown",
   "metadata": {},
   "source": [
    "<div>\n",
    "<img src=\"https://i.ibb.co/v3CvVz9/udd-short.png\" width=\"96\"/>\n",
    "    <br>\n",
    "    <strong>Universidad del Desarrollo</strong><br>\n",
    "    Magíster en Data Science<br>\n",
    "    <em>Profesor: Víctor Navarro Aránguiz</em><br>\n",
    "\n",
    "</div>\n",
    "\n",
    "### Proyecto Final Python para Data Science\n",
    "*Nombre Estudiante(s):* `Mariangel Arrieta`"
   ]
  },
  {
   "cell_type": "markdown",
   "metadata": {},
   "source": [
    "`Introducción al análisis exploratorio de datos`"
   ]
  },
  {
   "cell_type": "markdown",
   "metadata": {},
   "source": [
    "##### Importar paquetes"
   ]
  },
  {
   "cell_type": "code",
   "execution_count": 1,
   "metadata": {},
   "outputs": [],
   "source": [
    "#importamos libreria\n",
    "import pandas as pd\n",
    "\n",
    "#importamos librerias de visualización\n",
    "#import matplotlib.pyplot as plt\n",
    "#import seaborn as sns\n",
    "\n",
    "#Para mostrar todas las columnas en el df\n",
    "pd.set_option('display.max_columns', None)"
   ]
  },
  {
   "cell_type": "markdown",
   "metadata": {},
   "source": [
    "##### Cargar datos"
   ]
  },
  {
   "cell_type": "code",
   "execution_count": 2,
   "metadata": {},
   "outputs": [],
   "source": [
    "# Ruta al archivo CSV en la carpeta data\n",
    "file_path = '../data/online_course_engagement_data.csv'\n",
    "\n",
    "# Leer el archivo CSV\n",
    "df = pd.read_csv(file_path)\n"
   ]
  },
  {
   "cell_type": "markdown",
   "metadata": {},
   "source": [
    "##### Recopilar información básica sobre los datos."
   ]
  },
  {
   "cell_type": "code",
   "execution_count": 3,
   "metadata": {},
   "outputs": [
    {
     "name": "stdout",
     "output_type": "stream",
     "text": [
      "<class 'pandas.core.frame.DataFrame'>\n",
      "RangeIndex: 9000 entries, 0 to 8999\n",
      "Data columns (total 9 columns):\n",
      " #   Column                 Non-Null Count  Dtype  \n",
      "---  ------                 --------------  -----  \n",
      " 0   UserID                 9000 non-null   int64  \n",
      " 1   CourseCategory         9000 non-null   object \n",
      " 2   TimeSpentOnCourse      9000 non-null   float64\n",
      " 3   NumberOfVideosWatched  9000 non-null   int64  \n",
      " 4   NumberOfQuizzesTaken   9000 non-null   int64  \n",
      " 5   QuizScores             9000 non-null   float64\n",
      " 6   CompletionRate         9000 non-null   float64\n",
      " 7   DeviceType             9000 non-null   int64  \n",
      " 8   CourseCompletion       9000 non-null   int64  \n",
      "dtypes: float64(3), int64(5), object(1)\n",
      "memory usage: 632.9+ KB\n"
     ]
    }
   ],
   "source": [
    "#Se describen las columnas de 'df' identificando el tipo de dato en cada una.\n",
    "df.info()"
   ]
  },
  {
   "cell_type": "markdown",
   "metadata": {},
   "source": [
    "*Que representan las columnas?*\n",
    "\n",
    "###### UserID (int64) --> Identificador único para cada usuario  \n",
    "###### CourseCategory (object) --> Categoría del curso tomado por el usuario (por ejemplo, Programación, Negocios, Artes)  \n",
    "###### TimeSpentOnCourse (float64) --> Tiempo total dedicado por el usuario al curso en horas  \n",
    "###### NumberOfVideosWatched (int64) --> Número de vídeos vistos  \n",
    "###### NumberOfQuizzesTaken (int64) --> Número de pruebas realizadas  \n",
    "###### QuizScores (float64) --> Puntuaciones del cuestionario  \n",
    "###### CompletionRate (float64) --> Tasa de finalización  \n",
    "###### DeviceType (int64) --> Tipo de dispositivo (0: Desktop, 1: Mobile)  \n",
    "###### CourseCompletion (int64) --> Finalización del curso (0: No completado, 1: Completado)  \n"
   ]
  },
  {
   "cell_type": "code",
   "execution_count": 4,
   "metadata": {},
   "outputs": [
    {
     "data": {
      "text/plain": [
       "(9000, 9)"
      ]
     },
     "execution_count": 4,
     "metadata": {},
     "output_type": "execute_result"
    }
   ],
   "source": [
    "#Dimensiones del df\n",
    "df.shape"
   ]
  },
  {
   "cell_type": "code",
   "execution_count": 5,
   "metadata": {},
   "outputs": [
    {
     "data": {
      "text/html": [
       "<div>\n",
       "<style scoped>\n",
       "    .dataframe tbody tr th:only-of-type {\n",
       "        vertical-align: middle;\n",
       "    }\n",
       "\n",
       "    .dataframe tbody tr th {\n",
       "        vertical-align: top;\n",
       "    }\n",
       "\n",
       "    .dataframe thead th {\n",
       "        text-align: right;\n",
       "    }\n",
       "</style>\n",
       "<table border=\"1\" class=\"dataframe\">\n",
       "  <thead>\n",
       "    <tr style=\"text-align: right;\">\n",
       "      <th></th>\n",
       "      <th>UserID</th>\n",
       "      <th>CourseCategory</th>\n",
       "      <th>TimeSpentOnCourse</th>\n",
       "      <th>NumberOfVideosWatched</th>\n",
       "      <th>NumberOfQuizzesTaken</th>\n",
       "      <th>QuizScores</th>\n",
       "      <th>CompletionRate</th>\n",
       "      <th>DeviceType</th>\n",
       "      <th>CourseCompletion</th>\n",
       "    </tr>\n",
       "  </thead>\n",
       "  <tbody>\n",
       "    <tr>\n",
       "      <th>0</th>\n",
       "      <td>5618</td>\n",
       "      <td>Health</td>\n",
       "      <td>29.979719</td>\n",
       "      <td>17</td>\n",
       "      <td>3</td>\n",
       "      <td>50.365656</td>\n",
       "      <td>20.860773</td>\n",
       "      <td>1</td>\n",
       "      <td>0</td>\n",
       "    </tr>\n",
       "    <tr>\n",
       "      <th>1</th>\n",
       "      <td>4326</td>\n",
       "      <td>Arts</td>\n",
       "      <td>27.802640</td>\n",
       "      <td>1</td>\n",
       "      <td>5</td>\n",
       "      <td>62.615970</td>\n",
       "      <td>65.632415</td>\n",
       "      <td>1</td>\n",
       "      <td>0</td>\n",
       "    </tr>\n",
       "    <tr>\n",
       "      <th>2</th>\n",
       "      <td>5849</td>\n",
       "      <td>Arts</td>\n",
       "      <td>86.820485</td>\n",
       "      <td>14</td>\n",
       "      <td>2</td>\n",
       "      <td>78.458962</td>\n",
       "      <td>63.812007</td>\n",
       "      <td>1</td>\n",
       "      <td>1</td>\n",
       "    </tr>\n",
       "    <tr>\n",
       "      <th>3</th>\n",
       "      <td>4992</td>\n",
       "      <td>Science</td>\n",
       "      <td>35.038427</td>\n",
       "      <td>17</td>\n",
       "      <td>10</td>\n",
       "      <td>59.198853</td>\n",
       "      <td>95.433162</td>\n",
       "      <td>0</td>\n",
       "      <td>1</td>\n",
       "    </tr>\n",
       "    <tr>\n",
       "      <th>4</th>\n",
       "      <td>3866</td>\n",
       "      <td>Programming</td>\n",
       "      <td>92.490647</td>\n",
       "      <td>16</td>\n",
       "      <td>0</td>\n",
       "      <td>98.428285</td>\n",
       "      <td>18.102478</td>\n",
       "      <td>0</td>\n",
       "      <td>0</td>\n",
       "    </tr>\n",
       "    <tr>\n",
       "      <th>5</th>\n",
       "      <td>8650</td>\n",
       "      <td>Health</td>\n",
       "      <td>79.466129</td>\n",
       "      <td>12</td>\n",
       "      <td>7</td>\n",
       "      <td>70.233329</td>\n",
       "      <td>76.484023</td>\n",
       "      <td>0</td>\n",
       "      <td>1</td>\n",
       "    </tr>\n",
       "    <tr>\n",
       "      <th>6</th>\n",
       "      <td>4321</td>\n",
       "      <td>Health</td>\n",
       "      <td>78.908724</td>\n",
       "      <td>10</td>\n",
       "      <td>2</td>\n",
       "      <td>86.836533</td>\n",
       "      <td>22.588896</td>\n",
       "      <td>1</td>\n",
       "      <td>0</td>\n",
       "    </tr>\n",
       "    <tr>\n",
       "      <th>7</th>\n",
       "      <td>4589</td>\n",
       "      <td>Business</td>\n",
       "      <td>12.068237</td>\n",
       "      <td>16</td>\n",
       "      <td>3</td>\n",
       "      <td>61.553646</td>\n",
       "      <td>27.410991</td>\n",
       "      <td>1</td>\n",
       "      <td>0</td>\n",
       "    </tr>\n",
       "    <tr>\n",
       "      <th>8</th>\n",
       "      <td>4215</td>\n",
       "      <td>Business</td>\n",
       "      <td>81.935709</td>\n",
       "      <td>8</td>\n",
       "      <td>4</td>\n",
       "      <td>90.264564</td>\n",
       "      <td>33.308437</td>\n",
       "      <td>0</td>\n",
       "      <td>1</td>\n",
       "    </tr>\n",
       "    <tr>\n",
       "      <th>9</th>\n",
       "      <td>8089</td>\n",
       "      <td>Programming</td>\n",
       "      <td>83.394026</td>\n",
       "      <td>15</td>\n",
       "      <td>10</td>\n",
       "      <td>63.956353</td>\n",
       "      <td>33.261300</td>\n",
       "      <td>1</td>\n",
       "      <td>0</td>\n",
       "    </tr>\n",
       "  </tbody>\n",
       "</table>\n",
       "</div>"
      ],
      "text/plain": [
       "   UserID CourseCategory  TimeSpentOnCourse  NumberOfVideosWatched  \\\n",
       "0    5618         Health          29.979719                     17   \n",
       "1    4326           Arts          27.802640                      1   \n",
       "2    5849           Arts          86.820485                     14   \n",
       "3    4992        Science          35.038427                     17   \n",
       "4    3866    Programming          92.490647                     16   \n",
       "5    8650         Health          79.466129                     12   \n",
       "6    4321         Health          78.908724                     10   \n",
       "7    4589       Business          12.068237                     16   \n",
       "8    4215       Business          81.935709                      8   \n",
       "9    8089    Programming          83.394026                     15   \n",
       "\n",
       "   NumberOfQuizzesTaken  QuizScores  CompletionRate  DeviceType  \\\n",
       "0                     3   50.365656       20.860773           1   \n",
       "1                     5   62.615970       65.632415           1   \n",
       "2                     2   78.458962       63.812007           1   \n",
       "3                    10   59.198853       95.433162           0   \n",
       "4                     0   98.428285       18.102478           0   \n",
       "5                     7   70.233329       76.484023           0   \n",
       "6                     2   86.836533       22.588896           1   \n",
       "7                     3   61.553646       27.410991           1   \n",
       "8                     4   90.264564       33.308437           0   \n",
       "9                    10   63.956353       33.261300           1   \n",
       "\n",
       "   CourseCompletion  \n",
       "0                 0  \n",
       "1                 0  \n",
       "2                 1  \n",
       "3                 1  \n",
       "4                 0  \n",
       "5                 1  \n",
       "6                 0  \n",
       "7                 0  \n",
       "8                 1  \n",
       "9                 0  "
      ]
     },
     "execution_count": 5,
     "metadata": {},
     "output_type": "execute_result"
    }
   ],
   "source": [
    "#Primeras 5 filas del df\n",
    "df.head(10)"
   ]
  },
  {
   "cell_type": "code",
   "execution_count": 6,
   "metadata": {},
   "outputs": [
    {
     "data": {
      "text/plain": [
       "Index(['UserID', 'CourseCategory', 'TimeSpentOnCourse',\n",
       "       'NumberOfVideosWatched', 'NumberOfQuizzesTaken', 'QuizScores',\n",
       "       'CompletionRate', 'DeviceType', 'CourseCompletion'],\n",
       "      dtype='object')"
      ]
     },
     "execution_count": 6,
     "metadata": {},
     "output_type": "execute_result"
    }
   ],
   "source": [
    "#total de columnas\n",
    "df.columns"
   ]
  },
  {
   "cell_type": "code",
   "execution_count": 7,
   "metadata": {},
   "outputs": [
    {
     "data": {
      "text/plain": [
       "UserID                   8123\n",
       "CourseCategory              5\n",
       "TimeSpentOnCourse        8123\n",
       "NumberOfVideosWatched      21\n",
       "NumberOfQuizzesTaken       11\n",
       "QuizScores               8123\n",
       "CompletionRate           8123\n",
       "DeviceType                  2\n",
       "CourseCompletion            2\n",
       "dtype: int64"
      ]
     },
     "execution_count": 7,
     "metadata": {},
     "output_type": "execute_result"
    }
   ],
   "source": [
    "#Total de elementos únicos por cada columna.\n",
    "df.nunique()"
   ]
  }
 ],
 "metadata": {
  "kernelspec": {
   "display_name": "marian",
   "language": "python",
   "name": "python3"
  },
  "language_info": {
   "codemirror_mode": {
    "name": "ipython",
    "version": 3
   },
   "file_extension": ".py",
   "mimetype": "text/x-python",
   "name": "python",
   "nbconvert_exporter": "python",
   "pygments_lexer": "ipython3",
   "version": "3.11.9"
  }
 },
 "nbformat": 4,
 "nbformat_minor": 2
}
